{
 "cells": [
  {
   "cell_type": "code",
   "execution_count": 1,
   "metadata": {
    "collapsed": true
   },
   "outputs": [],
   "source": [
    "import pandas as pd\n",
    "import pymysql\n",
    "from wordcloud import WordCloud\n",
    "from PIL import Image\n",
    "import numpy as np\n",
    "import matplotlib.pyplot as plt"
   ]
  },
  {
   "cell_type": "code",
   "execution_count": 2,
   "metadata": {
    "collapsed": true
   },
   "outputs": [],
   "source": [
    "import jieba\n",
    "import jieba.analyse"
   ]
  },
  {
   "cell_type": "code",
   "execution_count": 3,
   "metadata": {
    "scrolled": true
   },
   "outputs": [
    {
     "name": "stderr",
     "output_type": "stream",
     "text": [
      "Building prefix dict from the default dictionary ...\n",
      "Loading model from cache C:\\Users\\bin\\AppData\\Local\\Temp\\jieba.cache\n",
      "Loading model cost 1.743 seconds.\n",
      "Prefix dict has been built succesfully.\n"
     ]
    }
   ],
   "source": [
    "jieba.load_userdict(r'new_words.txt')"
   ]
  },
  {
   "cell_type": "code",
   "execution_count": 4,
   "metadata": {
    "collapsed": true
   },
   "outputs": [],
   "source": [
    "#从数据库读入数据\n",
    "db = pymysql.connect(\"localhost\",\"root\",\"\",\"TESTDB\" )\n",
    "sql1 = 'select * from cssw;'\n",
    "sql2 = 'select * from cssw_cmt;'\n",
    "data1 = pd.read_sql(sql1,db)\n",
    "data2 = pd.read_sql(sql2,db)\n",
    "data2=data2.rename(columns={'like_count':'fav_count','root_in_reply_to_status_id':'eventID'})"
   ]
  },
  {
   "cell_type": "markdown",
   "metadata": {},
   "source": [
    "jieba分词，为词云做准备"
   ]
  },
  {
   "cell_type": "code",
   "execution_count": 5,
   "metadata": {
    "collapsed": true
   },
   "outputs": [],
   "source": [
    "data1['tag'] = data1['text'].apply(lambda x:' '.join(jieba.analyse.extract_tags(x,20)))\n",
    "data2['comment'] = data2['text'].apply(lambda x:' '.join(jieba.cut(x)))\n",
    "data1['comment'] = data1['text'].apply(lambda x:' '.join(jieba.cut(x)))"
   ]
  },
  {
   "cell_type": "code",
   "execution_count": 6,
   "metadata": {
    "collapsed": true
   },
   "outputs": [],
   "source": [
    "#停用词\n",
    "stopwords = ['事件','生物','公司','长生','生产','企业','亿元','伟民','中国','板块','延申','这个','不会','这种','就是','如果','应该','不是','一个','直接','没有','然后','可能','几个','现在','需要','已经','怎么','还是','我们','估计','还有','因为','这样','不要','相关','但是','今天','知道','这次','他们','那么','什么','不能','估计','可以','不了','这么','事情','至少','多少','出来','你们','一下','只是','自己','这些']"
   ]
  },
  {
   "cell_type": "code",
   "execution_count": 7,
   "metadata": {
    "collapsed": true
   },
   "outputs": [],
   "source": [
    "data3 = pd.concat([data1,data2],join='inner')"
   ]
  },
  {
   "cell_type": "code",
   "execution_count": 8,
   "metadata": {},
   "outputs": [
    {
     "data": {
      "text/html": [
       "<div>\n",
       "<style>\n",
       "    .dataframe thead tr:only-child th {\n",
       "        text-align: right;\n",
       "    }\n",
       "\n",
       "    .dataframe thead th {\n",
       "        text-align: left;\n",
       "    }\n",
       "\n",
       "    .dataframe tbody tr th {\n",
       "        vertical-align: top;\n",
       "    }\n",
       "</style>\n",
       "<table border=\"1\" class=\"dataframe\">\n",
       "  <thead>\n",
       "    <tr style=\"text-align: right;\">\n",
       "      <th></th>\n",
       "      <th>id</th>\n",
       "      <th>user_id</th>\n",
       "      <th>text</th>\n",
       "      <th>fav_count</th>\n",
       "      <th>user_friends_count</th>\n",
       "      <th>user_followers_count</th>\n",
       "      <th>user_status_count</th>\n",
       "      <th>user_province</th>\n",
       "      <th>timeBefore</th>\n",
       "      <th>comment</th>\n",
       "    </tr>\n",
       "  </thead>\n",
       "  <tbody>\n",
       "    <tr>\n",
       "      <th>0</th>\n",
       "      <td>110920317</td>\n",
       "      <td>1515690066</td>\n",
       "      <td>文/意卿    GPLP截至7月23日一早的临时停牌后吗，长生生物在午盘复牌开盘后，长生生物...</td>\n",
       "      <td>0</td>\n",
       "      <td>3</td>\n",
       "      <td>15403</td>\n",
       "      <td>924</td>\n",
       "      <td>北京</td>\n",
       "      <td>07-23 16:47</td>\n",
       "      <td>文 / 意卿         GPLP 截至 7 月 23 日 一早 的 临时 停牌 后 吗...</td>\n",
       "    </tr>\n",
       "    <tr>\n",
       "      <th>1</th>\n",
       "      <td>110850054</td>\n",
       "      <td>7376809532</td>\n",
       "      <td>周末各大论坛、自媒体被疫苗之王持续刷屏，大家的焦虑症又开始泛滥了，深深的无力感油...</td>\n",
       "      <td>6</td>\n",
       "      <td>299</td>\n",
       "      <td>844</td>\n",
       "      <td>90</td>\n",
       "      <td>新疆</td>\n",
       "      <td>07-22 09:23</td>\n",
       "      <td>周末 各大 论坛 、 自 媒体 被 疫苗 之王 持续 刷屏 ， 大家...</td>\n",
       "    </tr>\n",
       "    <tr>\n",
       "      <th>2</th>\n",
       "      <td>110644274</td>\n",
       "      <td>8986714742</td>\n",
       "      <td>长生生物被药监处理后，已经三个跌停。看其公告，是生产过程记录造假，这则公告我是看不太...</td>\n",
       "      <td>1</td>\n",
       "      <td>126</td>\n",
       "      <td>28</td>\n",
       "      <td>7</td>\n",
       "      <td>海外</td>\n",
       "      <td>07-18 10:18</td>\n",
       "      <td>长生生物 被 药监 处理 后 ， 已经 三个 跌停 。 看其 公告 ， 是 ...</td>\n",
       "    </tr>\n",
       "    <tr>\n",
       "      <th>3</th>\n",
       "      <td>110908100</td>\n",
       "      <td>5483912435</td>\n",
       "      <td>今天是“大暑”，全国人民都十分恼火。因为长生生物的疫苗造假事件，已经突破了道德底线。昨天，国...</td>\n",
       "      <td>9</td>\n",
       "      <td>550</td>\n",
       "      <td>610</td>\n",
       "      <td>28</td>\n",
       "      <td>浙江</td>\n",
       "      <td>07-23 14:08</td>\n",
       "      <td>今天 是 “ 大暑 ” ， 全国 人民 都 十分 恼火 。 因为 长生生物 的 疫苗 造假 ...</td>\n",
       "    </tr>\n",
       "    <tr>\n",
       "      <th>4</th>\n",
       "      <td>110866961</td>\n",
       "      <td>8187201837</td>\n",
       "      <td>1、五大官媒痛批长生生物：致歉能了事?要一查到底！2018年7月22日，长生生物“狂犬病疫苗...</td>\n",
       "      <td>5</td>\n",
       "      <td>1689</td>\n",
       "      <td>47195</td>\n",
       "      <td>1863</td>\n",
       "      <td>上海</td>\n",
       "      <td>07-22 19:31</td>\n",
       "      <td>1 、 五大 官媒 痛批 长生生物 ： 致歉 能 了 事 ? 要 一查到底 ！ 2018 年...</td>\n",
       "    </tr>\n",
       "  </tbody>\n",
       "</table>\n",
       "</div>"
      ],
      "text/plain": [
       "          id     user_id                                               text  \\\n",
       "0  110920317  1515690066  文/意卿    GPLP截至7月23日一早的临时停牌后吗，长生生物在午盘复牌开盘后，长生生物...   \n",
       "1  110850054  7376809532        周末各大论坛、自媒体被疫苗之王持续刷屏，大家的焦虑症又开始泛滥了，深深的无力感油...   \n",
       "2  110644274  8986714742      长生生物被药监处理后，已经三个跌停。看其公告，是生产过程记录造假，这则公告我是看不太...   \n",
       "3  110908100  5483912435  今天是“大暑”，全国人民都十分恼火。因为长生生物的疫苗造假事件，已经突破了道德底线。昨天，国...   \n",
       "4  110866961  8187201837  1、五大官媒痛批长生生物：致歉能了事?要一查到底！2018年7月22日，长生生物“狂犬病疫苗...   \n",
       "\n",
       "   fav_count  user_friends_count  user_followers_count  user_status_count  \\\n",
       "0          0                   3                 15403                924   \n",
       "1          6                 299                   844                 90   \n",
       "2          1                 126                    28                  7   \n",
       "3          9                 550                   610                 28   \n",
       "4          5                1689                 47195               1863   \n",
       "\n",
       "  user_province   timeBefore  \\\n",
       "0            北京  07-23 16:47   \n",
       "1            新疆  07-22 09:23   \n",
       "2            海外  07-18 10:18   \n",
       "3            浙江  07-23 14:08   \n",
       "4            上海  07-22 19:31   \n",
       "\n",
       "                                             comment  \n",
       "0  文 / 意卿         GPLP 截至 7 月 23 日 一早 的 临时 停牌 后 吗...  \n",
       "1              周末 各大 论坛 、 自 媒体 被 疫苗 之王 持续 刷屏 ， 大家...  \n",
       "2          长生生物 被 药监 处理 后 ， 已经 三个 跌停 。 看其 公告 ， 是 ...  \n",
       "3  今天 是 “ 大暑 ” ， 全国 人民 都 十分 恼火 。 因为 长生生物 的 疫苗 造假 ...  \n",
       "4  1 、 五大 官媒 痛批 长生生物 ： 致歉 能 了 事 ? 要 一查到底 ！ 2018 年...  "
      ]
     },
     "execution_count": 8,
     "metadata": {},
     "output_type": "execute_result"
    }
   ],
   "source": [
    "data3.head()"
   ]
  },
  {
   "cell_type": "markdown",
   "metadata": {},
   "source": [
    "词云图"
   ]
  },
  {
   "cell_type": "code",
   "execution_count": 9,
   "metadata": {
    "collapsed": true
   },
   "outputs": [],
   "source": [
    "def wordcloud_plot(text_list):\n",
    "    text_all = ' '.join(text_list)\n",
    "    wc = WordCloud(stopwords=stopwords,font_path=\"msyh.ttc\",background_color = 'white',max_words = 100,random_state =42,margin=3,collocations=False)\n",
    "    wc.generate(text_all)\n",
    "    plt.imshow(wc,interpolation=\"bilinear\")\n",
    "    plt.axis(\"off\")\n",
    "    wc.to_file('ciyun.png')\n",
    "    plt.show()\n",
    "    return"
   ]
  },
  {
   "cell_type": "code",
   "execution_count": 10,
   "metadata": {
    "scrolled": true
   },
   "outputs": [
    {
     "data": {
      "image/png": "[encoded data removed]",
      "text/plain": [
       "<matplotlib.figure.Figure at 0x1d9cd34cf60>"
      ]
     },
     "metadata": {},
     "output_type": "display_data"
    }
   ],
   "source": [
    "wordcloud_plot(data1['comment'])"
   ]
  },
  {
   "cell_type": "code",
   "execution_count": 5,
   "metadata": {
    "collapsed": true
   },
   "outputs": [],
   "source": [
    "#'2018-07-25 14:20'\n",
    "from datetime import datetime\n",
    "from datetime import timedelta\n",
    "dt_now = pd.to_datetime('2018-07-25 14:20')\n",
    "def time_parser(thetime):\n",
    "    if '今天' in thetime:\n",
    "        rst = thetime.replace('今天','2018-07-25')\n",
    "    elif '昨天' in thetime:\n",
    "        rst = thetime.replace('昨天','2018-07-24')\n",
    "    elif '分钟前' in thetime:\n",
    "        the_min = int(thetime[:-3])\n",
    "        the_time = dt_now - timedelta(minutes=the_min)\n",
    "        rst = the_time.strftime('%Y-%m-%d %H:%M')\n",
    "    elif '秒前' in thetime:\n",
    "        rst = '2018-07-25 14:20'\n",
    "    elif len(thetime)== 11:\n",
    "        rst = '2018-' + thetime\n",
    "    else:\n",
    "        rst = thetime\n",
    "    return rst"
   ]
  },
  {
   "cell_type": "code",
   "execution_count": 8,
   "metadata": {},
   "outputs": [],
   "source": [
    "data3['timeBefore'] = pd.to_datetime(data3['timeBefore'].map(time_parser))"
   ]
  },
  {
   "cell_type": "code",
   "execution_count": 9,
   "metadata": {
    "collapsed": true
   },
   "outputs": [],
   "source": [
    "data3 = data3.set_index('timeBefore')"
   ]
  },
  {
   "cell_type": "code",
   "execution_count": 10,
   "metadata": {
    "collapsed": true
   },
   "outputs": [],
   "source": [
    "plt.style.use('seaborn-white')\n",
    "import matplotlib\n",
    "matplotlib.rcParams['font.sans-serif'] = ['KaiTi']#作图的中文\n",
    "matplotlib.rcParams['font.serif'] = ['KaiTi']#作图的中文\n",
    "plt.rcParams['axes.unicode_minus'] = False#正常显示负号"
   ]
  },
  {
   "cell_type": "code",
   "execution_count": 15,
   "metadata": {
    "collapsed": true
   },
   "outputs": [],
   "source": [
    "time_data = data3['20180715':]['id'].resample('h').count()"
   ]
  },
  {
   "cell_type": "code",
   "execution_count": 16,
   "metadata": {
    "scrolled": false
   },
   "outputs": [
    {
     "data": {
      "image/png": "[encoded data removed]",
      "text/plain": [
       "<matplotlib.figure.Figure at 0x1d9d29beb00>"
      ]
     },
     "metadata": {},
     "output_type": "display_data"
    }
   ],
   "source": [
    "fig1, ax1=plt.subplots(figsize=(16,4))\n",
    "time_data.plot(kind='area',ax=ax1,alpha=0.6)\n",
    "plt.show()"
   ]
  },
  {
   "cell_type": "code",
   "execution_count": 17,
   "metadata": {
    "collapsed": true
   },
   "outputs": [],
   "source": [
    "city_data = data3.drop_duplicates('user_id').groupby('user_province')['id'].count().sort_values(ascending=False)"
   ]
  },
  {
   "cell_type": "code",
   "execution_count": 18,
   "metadata": {
    "collapsed": true
   },
   "outputs": [],
   "source": [
    "city_data = city_data.loc[~city_data.index.isin(['省/直辖市','不限','其他','海外','朝阳区','深圳','东城区',''])]"
   ]
  },
  {
   "cell_type": "code",
   "execution_count": 19,
   "metadata": {
    "scrolled": true
   },
   "outputs": [
    {
     "data": {
      "text/plain": [
       "user_province\n",
       "广东     683\n",
       "北京     537\n",
       "上海     481\n",
       "江苏     245\n",
       "浙江     243\n",
       "山东     172\n",
       "四川     131\n",
       "福建      97\n",
       "湖北      93\n",
       "河南      88\n",
       "安徽      76\n",
       "湖南      69\n",
       "河北      54\n",
       "陕西      49\n",
       "重庆      49\n",
       "辽宁      44\n",
       "江西      40\n",
       "香港      37\n",
       "天津      27\n",
       "云南      22\n",
       "广西      22\n",
       "山西      21\n",
       "海南      15\n",
       "甘肃      15\n",
       "吉林      15\n",
       "新疆      14\n",
       "黑龙江     11\n",
       "贵州      11\n",
       "内蒙古     10\n",
       "西藏       9\n",
       "澳门       4\n",
       "台湾       3\n",
       "宁夏       2\n",
       "青海       2\n",
       "Name: id, dtype: int64"
      ]
     },
     "execution_count": 19,
     "metadata": {},
     "output_type": "execute_result"
    }
   ],
   "source": [
    "city_data"
   ]
  },
  {
   "cell_type": "code",
   "execution_count": 20,
   "metadata": {},
   "outputs": [
    {
     "data": {
      "image/png": "[encoded data removed]",
      "text/plain": [
       "<matplotlib.figure.Figure at 0x1d9d4ac1d68>"
      ]
     },
     "metadata": {},
     "output_type": "display_data"
    }
   ],
   "source": [
    "fig2, ax2=plt.subplots(figsize=(8,4))\n",
    "city_data[:5].plot(kind='bar',ax=ax2,alpha=0.6,rot=0)\n",
    "plt.show()"
   ]
  },
  {
   "cell_type": "code",
   "execution_count": 21,
   "metadata": {},
   "outputs": [
    {
     "data": {
      "text/plain": [
       "3740"
      ]
     },
     "execution_count": 21,
     "metadata": {},
     "output_type": "execute_result"
    }
   ],
   "source": [
    "len(data1)"
   ]
  },
  {
   "cell_type": "code",
   "execution_count": 22,
   "metadata": {},
   "outputs": [
    {
     "data": {
      "text/plain": [
       "8338"
      ]
     },
     "execution_count": 22,
     "metadata": {},
     "output_type": "execute_result"
    }
   ],
   "source": [
    "len(data2)"
   ]
  },
  {
   "cell_type": "code",
   "execution_count": 23,
   "metadata": {
    "collapsed": true
   },
   "outputs": [],
   "source": [
    "db.close()"
   ]
  },
  {
   "cell_type": "code",
   "execution_count": 30,
   "metadata": {},
   "outputs": [
    {
     "data": {
      "text/plain": [
       "Index(['id', 'user_id', 'text', 'fav_count', 'user_friends_count',\n",
       "       'user_followers_count', 'user_status_count', 'user_province',\n",
       "       'timeBefore', 'eventID', 'comment'],\n",
       "      dtype='object')"
      ]
     },
     "execution_count": 30,
     "metadata": {},
     "output_type": "execute_result"
    }
   ],
   "source": [
    "data2.columns"
   ]
  },
  {
   "cell_type": "code",
   "execution_count": 43,
   "metadata": {
    "collapsed": true
   },
   "outputs": [],
   "source": [
    "dieting = data2.loc[data2['eventID']=='110898710'].copy()"
   ]
  },
  {
   "cell_type": "markdown",
   "metadata": {},
   "source": []
  },
  {
   "cell_type": "code",
   "execution_count": 61,
   "metadata": {
    "collapsed": true
   },
   "outputs": [],
   "source": [
    "dieting['text'] = ' ' + dieting['text']"
   ]
  },
  {
   "cell_type": "code",
   "execution_count": 64,
   "metadata": {
    "collapsed": true
   },
   "outputs": [],
   "source": [
    "dieting['dieting'] = dieting['text'].str.findall(r'\\D(\\d{1,2})个?')"
   ]
  },
  {
   "cell_type": "code",
   "execution_count": 83,
   "metadata": {
    "collapsed": true
   },
   "outputs": [],
   "source": [
    "def dieting_process(s):\n",
    "    if len(s)==0:\n",
    "        return None\n",
    "    elif len(s)==1:\n",
    "        return int(s[0])\n",
    "    else:\n",
    "        s2 = [int(n) for n in s]\n",
    "        return int(sum(s2)/len(s2))"
   ]
  },
  {
   "cell_type": "code",
   "execution_count": 85,
   "metadata": {
    "collapsed": true
   },
   "outputs": [],
   "source": [
    "dieting['dieting'] = dieting['dieting'].apply(dieting_process)"
   ]
  },
  {
   "cell_type": "code",
   "execution_count": 100,
   "metadata": {
    "collapsed": true
   },
   "outputs": [],
   "source": [
    "dietingyuce = dieting['dieting'].value_counts().copy()"
   ]
  },
  {
   "cell_type": "code",
   "execution_count": 103,
   "metadata": {},
   "outputs": [
    {
     "data": {
      "text/plain": [
       "10.0    132\n",
       "5.0      86\n",
       "15.0     56\n",
       "6.0      56\n",
       "8.0      51\n",
       "Name: dieting, dtype: int64"
      ]
     },
     "execution_count": 103,
     "metadata": {},
     "output_type": "execute_result"
    }
   ],
   "source": [
    "dietingyuce.iloc[:5]"
   ]
  },
  {
   "cell_type": "code",
   "execution_count": 109,
   "metadata": {},
   "outputs": [
    {
     "data": {
      "image/png": "[encoded data removed]",
      "text/plain": [
       "<matplotlib.figure.Figure at 0x1d9ea5a1470>"
      ]
     },
     "metadata": {},
     "output_type": "display_data"
    }
   ],
   "source": [
    "fig3, ax3=plt.subplots(figsize=(8,4))\n",
    "df3 = dietingyuce.iloc[:5]\n",
    "x_loc = np.arange(len(df3))\n",
    "ax3.bar(x_loc,df3.values)\n",
    "ax3.set_xticks(x_loc)\n",
    "ax3.set_xticklabels(df3.index,rotation =0)\n",
    "plt.show()"
   ]
  },
  {
   "cell_type": "code",
   "execution_count": 111,
   "metadata": {},
   "outputs": [
    {
     "data": {
      "text/plain": [
       "13.088477366255145"
      ]
     },
     "execution_count": 111,
     "metadata": {},
     "output_type": "execute_result"
    }
   ],
   "source": [
    "dieting['dieting'].mean()"
   ]
  },
  {
   "cell_type": "code",
   "execution_count": 112,
   "metadata": {},
   "outputs": [
    {
     "data": {
      "text/plain": [
       "Index(['id', 'user_id', 'text', 'fav_count', 'user_friends_count',\n",
       "       'user_followers_count', 'user_status_count', 'user_province',\n",
       "       'timeBefore', 'eventID', 'comment'],\n",
       "      dtype='object')"
      ]
     },
     "execution_count": 112,
     "metadata": {},
     "output_type": "execute_result"
    }
   ],
   "source": [
    "data2.columns"
   ]
  },
  {
   "cell_type": "code",
   "execution_count": 118,
   "metadata": {},
   "outputs": [
    {
     "data": {
      "text/html": [
       "<div>\n",
       "<style>\n",
       "    .dataframe thead tr:only-child th {\n",
       "        text-align: right;\n",
       "    }\n",
       "\n",
       "    .dataframe thead th {\n",
       "        text-align: left;\n",
       "    }\n",
       "\n",
       "    .dataframe tbody tr th {\n",
       "        vertical-align: top;\n",
       "    }\n",
       "</style>\n",
       "<table border=\"1\" class=\"dataframe\">\n",
       "  <thead>\n",
       "    <tr style=\"text-align: right;\">\n",
       "      <th></th>\n",
       "      <th>text</th>\n",
       "      <th>fav_count</th>\n",
       "    </tr>\n",
       "  </thead>\n",
       "  <tbody>\n",
       "    <tr>\n",
       "      <th>4006</th>\n",
       "      <td>10个起步，15个不多，20个刚好，最后退市！支持草菅人命的无良企业退市的朋友请点赞！这次要...</td>\n",
       "      <td>1646</td>\n",
       "    </tr>\n",
       "    <tr>\n",
       "      <th>1627</th>\n",
       "      <td>这事要在国外，长生死十次都不够！在天朝，要么自己去报仇，要么不了了之！</td>\n",
       "      <td>1473</td>\n",
       "    </tr>\n",
       "    <tr>\n",
       "      <th>3802</th>\n",
       "      <td>这个必须给深圳所点赞。</td>\n",
       "      <td>1184</td>\n",
       "    </tr>\n",
       "    <tr>\n",
       "      <th>599</th>\n",
       "      <td>长生生物，康泰生物 必须退市！退市！退市！</td>\n",
       "      <td>954</td>\n",
       "    </tr>\n",
       "    <tr>\n",
       "      <th>7517</th>\n",
       "      <td>国家监管形同虚设</td>\n",
       "      <td>787</td>\n",
       "    </tr>\n",
       "    <tr>\n",
       "      <th>596</th>\n",
       "      <td>必须死刑，天朝太需要死刑了</td>\n",
       "      <td>753</td>\n",
       "    </tr>\n",
       "    <tr>\n",
       "      <th>1587</th>\n",
       "      <td>为什么去年的检查，事隔九个月后的现在才公布。回答：因为九个月，疫苗行情做的差不多了，机构大都...</td>\n",
       "      <td>706</td>\n",
       "    </tr>\n",
       "    <tr>\n",
       "      <th>757</th>\n",
       "      <td>你的孩子不打疫苗是你的权利，但你不能诱导别人都不去打。疫苗接种确实会存在一些个体的不良反应，...</td>\n",
       "      <td>649</td>\n",
       "    </tr>\n",
       "    <tr>\n",
       "      <th>3369</th>\n",
       "      <td>就算不退市，也要诅咒他退市！</td>\n",
       "      <td>601</td>\n",
       "    </tr>\n",
       "    <tr>\n",
       "      <th>3808</th>\n",
       "      <td>不让停牌，好！！</td>\n",
       "      <td>585</td>\n",
       "    </tr>\n",
       "    <tr>\n",
       "      <th>708</th>\n",
       "      <td>不打完计划内疫苗，你们那能上学吗？</td>\n",
       "      <td>532</td>\n",
       "    </tr>\n",
       "    <tr>\n",
       "      <th>7532</th>\n",
       "      <td>我宁愿持有的这家上市公司股票市值变成0，也不愿你们再害孩子。</td>\n",
       "      <td>508</td>\n",
       "    </tr>\n",
       "    <tr>\n",
       "      <th>1632</th>\n",
       "      <td>草他妈，这企业要是复制了伊利的走势，老子说啥也让孩子移民</td>\n",
       "      <td>473</td>\n",
       "    </tr>\n",
       "    <tr>\n",
       "      <th>4023</th>\n",
       "      <td>永远跌下去，直到清零</td>\n",
       "      <td>454</td>\n",
       "    </tr>\n",
       "    <tr>\n",
       "      <th>4946</th>\n",
       "      <td>虽然我还有一千股，但我支持退市。我自己没查清楚就买这个股票，我自己亏了不怨谁。但是，这个草菅...</td>\n",
       "      <td>445</td>\n",
       "    </tr>\n",
       "    <tr>\n",
       "      <th>3805</th>\n",
       "      <td>躲得了初一躲不过十五。这初一都没有躲过啊。</td>\n",
       "      <td>387</td>\n",
       "    </tr>\n",
       "    <tr>\n",
       "      <th>4388</th>\n",
       "      <td>图片评论</td>\n",
       "      <td>378</td>\n",
       "    </tr>\n",
       "    <tr>\n",
       "      <th>3813</th>\n",
       "      <td>炸弹来了。不是他想复牌，是深交所不允许他停牌了</td>\n",
       "      <td>350</td>\n",
       "    </tr>\n",
       "    <tr>\n",
       "      <th>16</th>\n",
       "      <td>这种企业赶紧退市吧，坑投资人事儿小，坑老百姓事儿大，狂犬疫苗救的是命，尤其中国消耗量巨大，去...</td>\n",
       "      <td>348</td>\n",
       "    </tr>\n",
       "    <tr>\n",
       "      <th>3881</th>\n",
       "      <td>大赞深交所！！！看来，长生要被拿来祭旗了……</td>\n",
       "      <td>334</td>\n",
       "    </tr>\n",
       "    <tr>\n",
       "      <th>3368</th>\n",
       "      <td>没有60万搞不定的事</td>\n",
       "      <td>313</td>\n",
       "    </tr>\n",
       "    <tr>\n",
       "      <th>899</th>\n",
       "      <td>深夜无聊，无意中读到这篇文章，随意意淫一下此事处理结果1、长生生物较大概率被问责，50%概率...</td>\n",
       "      <td>312</td>\n",
       "    </tr>\n",
       "    <tr>\n",
       "      <th>7513</th>\n",
       "      <td>够呛，看这董事长女士人老珠黄了，财产被冻结了，卖B贿赂估计也没人操了……真的要完蛋……</td>\n",
       "      <td>286</td>\n",
       "    </tr>\n",
       "    <tr>\n",
       "      <th>6164</th>\n",
       "      <td>印度人把假药做成真药，中国人把真药做成假药，卖印度真药的被抓了，卖中国假药的都升官发财了！</td>\n",
       "      <td>276</td>\n",
       "    </tr>\n",
       "    <tr>\n",
       "      <th>965</th>\n",
       "      <td>哪里的？我会让我小孩远离你家的小孩。</td>\n",
       "      <td>259</td>\n",
       "    </tr>\n",
       "    <tr>\n",
       "      <th>3407</th>\n",
       "      <td>问法错了。。不退市才需要理由。。退市是板上钉钉的事！！</td>\n",
       "      <td>242</td>\n",
       "    </tr>\n",
       "    <tr>\n",
       "      <th>1383</th>\n",
       "      <td>朕现在是越来越清楚了，大清的心头之患不在外边，而是在朝廷，就是在这乾清宫！就在朕的骨肉皇子和...</td>\n",
       "      <td>234</td>\n",
       "    </tr>\n",
       "    <tr>\n",
       "      <th>7514</th>\n",
       "      <td>不判死刑不足以谢罪</td>\n",
       "      <td>230</td>\n",
       "    </tr>\n",
       "    <tr>\n",
       "      <th>609</th>\n",
       "      <td>最让人无比寒心的是微信朋友圈把兽爷那篇文章当作内容违规删除处理。我不知道是微信收取了公关费后...</td>\n",
       "      <td>222</td>\n",
       "    </tr>\n",
       "    <tr>\n",
       "      <th>7530</th>\n",
       "      <td>非医药专业人士请别发表评论，先去百度学习下再来，楼主说的东西非常可笑，中国要是再来次文革，你...</td>\n",
       "      <td>195</td>\n",
       "    </tr>\n",
       "    <tr>\n",
       "      <th>...</th>\n",
       "      <td>...</td>\n",
       "      <td>...</td>\n",
       "    </tr>\n",
       "    <tr>\n",
       "      <th>3658</th>\n",
       "      <td>为什么要退市？</td>\n",
       "      <td>0</td>\n",
       "    </tr>\n",
       "    <tr>\n",
       "      <th>3654</th>\n",
       "      <td>很可能，违法情节太恶劣！</td>\n",
       "      <td>0</td>\n",
       "    </tr>\n",
       "    <tr>\n",
       "      <th>3653</th>\n",
       "      <td>看到没，我就问你，雪球谁说了算？那么你就知道那啥谁说了算！</td>\n",
       "      <td>0</td>\n",
       "    </tr>\n",
       "    <tr>\n",
       "      <th>3651</th>\n",
       "      <td>最基本的企业道德都没有了，必须退市，严惩</td>\n",
       "      <td>0</td>\n",
       "    </tr>\n",
       "    <tr>\n",
       "      <th>3650</th>\n",
       "      <td>等待退市</td>\n",
       "      <td>0</td>\n",
       "    </tr>\n",
       "    <tr>\n",
       "      <th>3745</th>\n",
       "      <td>不但退市，以后也甭想在这个行业混了。关键是老大们表态了</td>\n",
       "      <td>0</td>\n",
       "    </tr>\n",
       "    <tr>\n",
       "      <th>3747</th>\n",
       "      <td>现在雪球上的发评比较谨慎</td>\n",
       "      <td>0</td>\n",
       "    </tr>\n",
       "    <tr>\n",
       "      <th>3771</th>\n",
       "      <td>从法律角度，惩罚人，才是问题关键，对于企业来讲，主要由董监高来负责。因此应该对主要责任人课以...</td>\n",
       "      <td>0</td>\n",
       "    </tr>\n",
       "    <tr>\n",
       "      <th>3760</th>\n",
       "      <td>說什麼退市…應該全部判處死刑</td>\n",
       "      <td>0</td>\n",
       "    </tr>\n",
       "    <tr>\n",
       "      <th>3769</th>\n",
       "      <td>不是会不会，是应不应该</td>\n",
       "      <td>0</td>\n",
       "    </tr>\n",
       "    <tr>\n",
       "      <th>3768</th>\n",
       "      <td>不知道。不会吧。整改后，再继续盈利。应该没问题吧</td>\n",
       "      <td>0</td>\n",
       "    </tr>\n",
       "    <tr>\n",
       "      <th>3767</th>\n",
       "      <td>退不退不是我等韭菜说了算 但肯定不会买这种股票了 后面省略一万字</td>\n",
       "      <td>0</td>\n",
       "    </tr>\n",
       "    <tr>\n",
       "      <th>3766</th>\n",
       "      <td>还能怎么样</td>\n",
       "      <td>0</td>\n",
       "    </tr>\n",
       "    <tr>\n",
       "      <th>3765</th>\n",
       "      <td>凡正罚酒三杯就了事儿的可能性不大</td>\n",
       "      <td>0</td>\n",
       "    </tr>\n",
       "    <tr>\n",
       "      <th>3764</th>\n",
       "      <td>政治意志</td>\n",
       "      <td>0</td>\n",
       "    </tr>\n",
       "    <tr>\n",
       "      <th>3763</th>\n",
       "      <td>必须退市，追究刑事责任。</td>\n",
       "      <td>0</td>\n",
       "    </tr>\n",
       "    <tr>\n",
       "      <th>3762</th>\n",
       "      <td>都希望它退市、但估计不会退！情节真的太恶劣，这种类型的企业，竟然会如此作恶、关乎的是国家大计...</td>\n",
       "      <td>0</td>\n",
       "    </tr>\n",
       "    <tr>\n",
       "      <th>3761</th>\n",
       "      <td>必须退</td>\n",
       "      <td>0</td>\n",
       "    </tr>\n",
       "    <tr>\n",
       "      <th>3759</th>\n",
       "      <td>改头换面敲锣打鼓重开张也不是啥稀罕事，这地盘，啥事没有。</td>\n",
       "      <td>0</td>\n",
       "    </tr>\n",
       "    <tr>\n",
       "      <th>3748</th>\n",
       "      <td>不仅退市，还要罚到倾家荡产，还要让他们都坐牢</td>\n",
       "      <td>0</td>\n",
       "    </tr>\n",
       "    <tr>\n",
       "      <th>3758</th>\n",
       "      <td>怎么像你这样的骗子这么多</td>\n",
       "      <td>0</td>\n",
       "    </tr>\n",
       "    <tr>\n",
       "      <th>3757</th>\n",
       "      <td>退市.，破产。我支持。股民好冤枉</td>\n",
       "      <td>0</td>\n",
       "    </tr>\n",
       "    <tr>\n",
       "      <th>3756</th>\n",
       "      <td>必须退市，不然违法生成太低，以后又违法</td>\n",
       "      <td>0</td>\n",
       "    </tr>\n",
       "    <tr>\n",
       "      <th>3755</th>\n",
       "      <td>大家放心，大唐没有红包搞不定的事</td>\n",
       "      <td>0</td>\n",
       "    </tr>\n",
       "    <tr>\n",
       "      <th>3754</th>\n",
       "      <td>厉害了word哥</td>\n",
       "      <td>0</td>\n",
       "    </tr>\n",
       "    <tr>\n",
       "      <th>3753</th>\n",
       "      <td>谁知道呢，也许调查结果是疫苗质量没问题，只是生产过程有违规</td>\n",
       "      <td>0</td>\n",
       "    </tr>\n",
       "    <tr>\n",
       "      <th>3752</th>\n",
       "      <td>应该不会吧，首先得整改问题，消除影响后就不会退。</td>\n",
       "      <td>0</td>\n",
       "    </tr>\n",
       "    <tr>\n",
       "      <th>3751</th>\n",
       "      <td>应该严惩控制人</td>\n",
       "      <td>0</td>\n",
       "    </tr>\n",
       "    <tr>\n",
       "      <th>3750</th>\n",
       "      <td>引发众怒，触动天庭。能不退市？退市，是对同类的警示。反之，则国家无救</td>\n",
       "      <td>0</td>\n",
       "    </tr>\n",
       "    <tr>\n",
       "      <th>8337</th>\n",
       "      <td>多大点事，罚酒三杯够不够？</td>\n",
       "      <td>0</td>\n",
       "    </tr>\n",
       "  </tbody>\n",
       "</table>\n",
       "<p>8338 rows × 2 columns</p>\n",
       "</div>"
      ],
      "text/plain": [
       "                                                   text  fav_count\n",
       "4006  10个起步，15个不多，20个刚好，最后退市！支持草菅人命的无良企业退市的朋友请点赞！这次要...       1646\n",
       "1627                这事要在国外，长生死十次都不够！在天朝，要么自己去报仇，要么不了了之！       1473\n",
       "3802                                        这个必须给深圳所点赞。       1184\n",
       "599                               长生生物，康泰生物 必须退市！退市！退市！        954\n",
       "7517                                           国家监管形同虚设        787\n",
       "596                                       必须死刑，天朝太需要死刑了        753\n",
       "1587  为什么去年的检查，事隔九个月后的现在才公布。回答：因为九个月，疫苗行情做的差不多了，机构大都...        706\n",
       "757   你的孩子不打疫苗是你的权利，但你不能诱导别人都不去打。疫苗接种确实会存在一些个体的不良反应，...        649\n",
       "3369                                     就算不退市，也要诅咒他退市！        601\n",
       "3808                                           不让停牌，好！！        585\n",
       "708                                   不打完计划内疫苗，你们那能上学吗？        532\n",
       "7532                     我宁愿持有的这家上市公司股票市值变成0，也不愿你们再害孩子。        508\n",
       "1632                       草他妈，这企业要是复制了伊利的走势，老子说啥也让孩子移民        473\n",
       "4023                                         永远跌下去，直到清零        454\n",
       "4946  虽然我还有一千股，但我支持退市。我自己没查清楚就买这个股票，我自己亏了不怨谁。但是，这个草菅...        445\n",
       "3805                              躲得了初一躲不过十五。这初一都没有躲过啊。        387\n",
       "4388                                               图片评论        378\n",
       "3813                            炸弹来了。不是他想复牌，是深交所不允许他停牌了        350\n",
       "16    这种企业赶紧退市吧，坑投资人事儿小，坑老百姓事儿大，狂犬疫苗救的是命，尤其中国消耗量巨大，去...        348\n",
       "3881                             大赞深交所！！！看来，长生要被拿来祭旗了……        334\n",
       "3368                                         没有60万搞不定的事        313\n",
       "899   深夜无聊，无意中读到这篇文章，随意意淫一下此事处理结果1、长生生物较大概率被问责，50%概率...        312\n",
       "7513        够呛，看这董事长女士人老珠黄了，财产被冻结了，卖B贿赂估计也没人操了……真的要完蛋……        286\n",
       "6164      印度人把假药做成真药，中国人把真药做成假药，卖印度真药的被抓了，卖中国假药的都升官发财了！        276\n",
       "965                                  哪里的？我会让我小孩远离你家的小孩。        259\n",
       "3407                        问法错了。。不退市才需要理由。。退市是板上钉钉的事！！        242\n",
       "1383  朕现在是越来越清楚了，大清的心头之患不在外边，而是在朝廷，就是在这乾清宫！就在朕的骨肉皇子和...        234\n",
       "7514                                          不判死刑不足以谢罪        230\n",
       "609   最让人无比寒心的是微信朋友圈把兽爷那篇文章当作内容违规删除处理。我不知道是微信收取了公关费后...        222\n",
       "7530  非医药专业人士请别发表评论，先去百度学习下再来，楼主说的东西非常可笑，中国要是再来次文革，你...        195\n",
       "...                                                 ...        ...\n",
       "3658                                            为什么要退市？          0\n",
       "3654                                       很可能，违法情节太恶劣！          0\n",
       "3653                      看到没，我就问你，雪球谁说了算？那么你就知道那啥谁说了算！          0\n",
       "3651                               最基本的企业道德都没有了，必须退市，严惩          0\n",
       "3650                                               等待退市          0\n",
       "3745                        不但退市，以后也甭想在这个行业混了。关键是老大们表态了          0\n",
       "3747                                       现在雪球上的发评比较谨慎          0\n",
       "3771  从法律角度，惩罚人，才是问题关键，对于企业来讲，主要由董监高来负责。因此应该对主要责任人课以...          0\n",
       "3760                                     說什麼退市…應該全部判處死刑          0\n",
       "3769                                        不是会不会，是应不应该          0\n",
       "3768                           不知道。不会吧。整改后，再继续盈利。应该没问题吧          0\n",
       "3767                   退不退不是我等韭菜说了算 但肯定不会买这种股票了 后面省略一万字          0\n",
       "3766                                              还能怎么样          0\n",
       "3765                                   凡正罚酒三杯就了事儿的可能性不大          0\n",
       "3764                                               政治意志          0\n",
       "3763                                       必须退市，追究刑事责任。          0\n",
       "3762  都希望它退市、但估计不会退！情节真的太恶劣，这种类型的企业，竟然会如此作恶、关乎的是国家大计...          0\n",
       "3761                                                必须退          0\n",
       "3759                       改头换面敲锣打鼓重开张也不是啥稀罕事，这地盘，啥事没有。          0\n",
       "3748                             不仅退市，还要罚到倾家荡产，还要让他们都坐牢          0\n",
       "3758                                       怎么像你这样的骗子这么多          0\n",
       "3757                                   退市.，破产。我支持。股民好冤枉          0\n",
       "3756                                必须退市，不然违法生成太低，以后又违法          0\n",
       "3755                                   大家放心，大唐没有红包搞不定的事          0\n",
       "3754                                           厉害了word哥          0\n",
       "3753                      谁知道呢，也许调查结果是疫苗质量没问题，只是生产过程有违规          0\n",
       "3752                           应该不会吧，首先得整改问题，消除影响后就不会退。          0\n",
       "3751                                            应该严惩控制人          0\n",
       "3750                 引发众怒，触动天庭。能不退市？退市，是对同类的警示。反之，则国家无救          0\n",
       "8337                                      多大点事，罚酒三杯够不够？          0\n",
       "\n",
       "[8338 rows x 2 columns]"
      ]
     },
     "execution_count": 118,
     "metadata": {},
     "output_type": "execute_result"
    }
   ],
   "source": [
    "data2.sort_values('fav_count',ascending=False)[['text','fav_count']]"
   ]
  },
  {
   "cell_type": "code",
   "execution_count": 120,
   "metadata": {},
   "outputs": [
    {
     "data": {
      "text/plain": [
       "972"
      ]
     },
     "execution_count": 120,
     "metadata": {},
     "output_type": "execute_result"
    }
   ],
   "source": [
    "dieting['dieting'].count()"
   ]
  },
  {
   "cell_type": "code",
   "execution_count": null,
   "metadata": {
    "collapsed": true
   },
   "outputs": [],
   "source": []
  }
 ],
 "metadata": {
  "kernelspec": {
   "display_name": "Python 3",
   "language": "python",
   "name": "python3"
  },
  "language_info": {
   "codemirror_mode": {
    "name": "ipython",
    "version": 3
   },
   "file_extension": ".py",
   "mimetype": "text/x-python",
   "name": "python",
   "nbconvert_exporter": "python",
   "pygments_lexer": "ipython3",
   "version": "3.6.1"
  }
 },
 "nbformat": 4,
 "nbformat_minor": 2
}
